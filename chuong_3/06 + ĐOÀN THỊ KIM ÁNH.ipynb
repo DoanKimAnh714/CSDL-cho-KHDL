{
 "cells": [
  {
   "cell_type": "markdown",
   "id": "6f80af9d",
   "metadata": {},
   "source": [
    "#### Câu 1. Viết câu lệnh SQLđể tính sự tương quan giữa A và B theo công thức"
   ]
  },
  {
   "cell_type": "code",
   "execution_count": 18,
   "id": "258be9c9",
   "metadata": {},
   "outputs": [
    {
     "name": "stdout",
     "output_type": "stream",
     "text": [
      "Hệ số tương quan Pearson: 1.0000000000000002\n"
     ]
    }
   ],
   "source": [
    "import pandas as pd\n",
    "import numpy as np\n",
    "\n",
    "# Giả sử ta có DataFrame df với hai cột 'A' và 'B'\n",
    "#Dữ liệu mẫu\n",
    "df = pd.DataFrame({'A': [1, 2, 3], 'B': [4, 5, 6]})\n",
    "\n",
    "#code theo công thức\n",
    "\n",
    "def calculate_correlation(df):\n",
    "    a = df['A']\n",
    "    b = df['B']\n",
    "    n = len(df)\n",
    "    \n",
    "    sum_ab = np.sum(a * b)\n",
    "    sum_a = np.sum(a)\n",
    "    sum_b = np.sum(b)\n",
    "    sum_a2 = np.sum(a ** 2)\n",
    "    sum_b2 = np.sum(b ** 2)\n",
    "\n",
    "    numerator = n * sum_ab - sum_a * sum_b\n",
    "    denominator = np.sqrt(n * sum_a2 - sum_a**2) * np.sqrt(n * sum_b2 - sum_b**2)\n",
    "\n",
    "    r = numerator / denominator\n",
    "    return r\n",
    "\n",
    "# Gọi hàm\n",
    "correlation = calculate_correlation(df)\n",
    "print(\"Hệ số tương quan Pearson:\", correlation)\n"
   ]
  },
  {
   "cell_type": "code",
   "execution_count": 19,
   "id": "a457437a",
   "metadata": {},
   "outputs": [
    {
     "name": "stdout",
     "output_type": "stream",
     "text": [
      "Hệ số tương quan Pearson: 1.0\n"
     ]
    }
   ],
   "source": [
    "# Dùng hàm có sẵn của pandas\n",
    "correlation = df['A'].corr(df['B'])\n",
    "print(\"Hệ số tương quan Pearson:\", correlation)\n"
   ]
  },
  {
   "cell_type": "markdown",
   "id": "ad276823",
   "metadata": {},
   "source": [
    "#### Câu 2"
   ]
  },
  {
   "cell_type": "markdown",
   "id": "65858ce5",
   "metadata": {},
   "source": [
    "##### Chuyển đổi dữ liệu về dạng quan hệ (long format)"
   ]
  },
  {
   "cell_type": "code",
   "execution_count": 20,
   "id": "6088a93c",
   "metadata": {},
   "outputs": [
    {
     "name": "stdout",
     "output_type": "stream",
     "text": [
      "      Day Model  Score\n",
      "0   Day 1     A    8.0\n",
      "1   Day 2     A    7.5\n",
      "2   Day 3     A    6.0\n",
      "3   Day 4     A    7.0\n",
      "4   Day 1     B    9.0\n",
      "5   Day 2     B    8.5\n",
      "6   Day 3     B    7.0\n",
      "7   Day 4     B    6.0\n",
      "8   Day 1     C    7.0\n",
      "9   Day 2     C    7.0\n",
      "10  Day 3     C    8.0\n",
      "11  Day 4     C    5.0\n"
     ]
    }
   ],
   "source": [
    "import pandas as pd\n",
    "\n",
    "# Tạo bảng dữ liệu\n",
    "data = {\n",
    "    'Day': ['Day 1', 'Day 2', 'Day 3', 'Day 4'],\n",
    "    'A': [8, 7.5, 6, 7],\n",
    "    'B': [9, 8.5, 7, 6],\n",
    "    'C': [7, 7, 8, 5]\n",
    "}\n",
    "\n",
    "df = pd.DataFrame(data)\n",
    "\n",
    "# Chuyển sang dạng quan hệ\n",
    "df_long = pd.melt(df, id_vars='Day', var_name='Model', value_name='Score')      #dùng pandas.melt() để chuyển từ bảng ngang thành bảng dọc\n",
    "print(df_long)\n"
   ]
  },
  {
   "cell_type": "markdown",
   "id": "313a1d8b",
   "metadata": {},
   "source": [
    "##### Phân nhóm điểm (rời rạc hóa)"
   ]
  },
  {
   "cell_type": "code",
   "execution_count": 21,
   "id": "56fd2475",
   "metadata": {},
   "outputs": [],
   "source": [
    "# Chia điểm thành nhóm: Low (0-6], Medium (6-8], High (8-10]\n",
    "df_long['ScoreGroup'] = pd.cut(df_long['Score'], bins=[0, 6, 8, 10], labels=['Low', 'Medium', 'High'])"
   ]
  },
  {
   "cell_type": "markdown",
   "id": "506428a5",
   "metadata": {},
   "source": [
    "##### Tạo bảng tần số và kiểm định Chi bình phương ($X^2$) "
   ]
  },
  {
   "cell_type": "code",
   "execution_count": 22,
   "id": "aed892b9",
   "metadata": {},
   "outputs": [
    {
     "name": "stdout",
     "output_type": "stream",
     "text": [
      "Bảng tần số:\n",
      " ScoreGroup  Low  Medium  High\n",
      "Model                        \n",
      "A             1       3     0\n",
      "B             1       1     2\n",
      "C             1       3     0\n",
      "Chi-square: 5.142857142857143\n",
      "p-value: 0.2729510249670288\n"
     ]
    }
   ],
   "source": [
    "import scipy.stats as stats\n",
    "\n",
    "# Bảng tần số giữa Model và ScoreGroup\n",
    "contingency = pd.crosstab(df_long['Model'], df_long['ScoreGroup'])\n",
    "\n",
    "# Kiểm định Chi bình phương\n",
    "chi2, p, dof, expected = stats.chi2_contingency(contingency)\n",
    "\n",
    "print(\"Bảng tần số:\\n\", contingency)\n",
    "print(\"Chi-square:\", chi2)\n",
    "print(\"p-value:\", p)\n"
   ]
  },
  {
   "cell_type": "markdown",
   "id": "c3e9b614",
   "metadata": {},
   "source": [
    "**Nhận xét:** Vì p-value = 0.273 > 0.05, nên có thể thấy không có sự khác biệt đáng kể giữa các mẫu xe. Kết quả thử nghiệm không phụ thuộc vào mẫu xe"
   ]
  },
  {
   "cell_type": "markdown",
   "id": "be2b1545",
   "metadata": {},
   "source": [
    "#### Phân tích xem kết quả có phụ thuộc vào ngày không"
   ]
  },
  {
   "cell_type": "code",
   "execution_count": 23,
   "id": "baefb80c",
   "metadata": {},
   "outputs": [
    {
     "name": "stdout",
     "output_type": "stream",
     "text": [
      "Bảng tần số theo ngày:\n",
      " ScoreGroup  Low  Medium  High\n",
      "Day                          \n",
      "Day 1         0       2     1\n",
      "Day 2         0       2     1\n",
      "Day 3         1       2     0\n",
      "Day 4         2       1     0\n",
      "Chi-square (Day): 6.095238095238095\n",
      "p-value (Day): 0.41260652765580624\n"
     ]
    }
   ],
   "source": [
    "# Bảng tần số: hàng là Day, cột là nhóm điểm\n",
    "contingency_day = pd.crosstab(df_long['Day'], df_long['ScoreGroup'])\n",
    "\n",
    "# Kiểm định Chi bình phương theo ngày\n",
    "chi2_day, p_day, dof_day, expected_day = stats.chi2_contingency(contingency_day)\n",
    "\n",
    "print(\"Bảng tần số theo ngày:\\n\", contingency_day)\n",
    "print(\"Chi-square (Day):\", chi2_day)\n",
    "print(\"p-value (Day):\", p_day)\n"
   ]
  },
  {
   "cell_type": "markdown",
   "id": "8e71ee4d",
   "metadata": {},
   "source": [
    "**Nhận xét:** Vì p-value = 0.413 > 0.05, nên ta thấy không có sự khác biệt đáng kể về điểm số giữa các ngày thử nghiệm.\n",
    "Kết quả chấm điểm không phụ thuộc vào thời gian/ngày kiểm tra."
   ]
  },
  {
   "cell_type": "markdown",
   "id": "b7de8549",
   "metadata": {},
   "source": [
    "#### Câu 3"
   ]
  },
  {
   "cell_type": "markdown",
   "id": "fd17b96f",
   "metadata": {},
   "source": [
    "##### Chuyển đổi từ số nguyên thành định dạng thời gian"
   ]
  },
  {
   "cell_type": "code",
   "execution_count": 24,
   "id": "90eddde0",
   "metadata": {},
   "outputs": [
    {
     "name": "stdout",
     "output_type": "stream",
     "text": [
      "   departure_time\n",
      "0             830\n",
      "1            1445\n",
      "2             920\n",
      "3            1720\n",
      "4            2355\n"
     ]
    }
   ],
   "source": [
    "import pandas as pd\n",
    "\n",
    "# Giả sử đây là dữ liệu ban đầu\n",
    "data = {'departure_time': [830, 1445, 920, 1720, 2355]}\n",
    "df = pd.DataFrame(data)\n",
    "\n",
    "print(df)\n"
   ]
  },
  {
   "cell_type": "markdown",
   "id": "3dcf39df",
   "metadata": {},
   "source": [
    "##### Chuyển đổi thời gian"
   ]
  },
  {
   "cell_type": "code",
   "execution_count": 25,
   "id": "13618e4e",
   "metadata": {},
   "outputs": [
    {
     "name": "stdout",
     "output_type": "stream",
     "text": [
      "  departure_time\n",
      "0          08:30\n",
      "1          14:45\n",
      "2          09:20\n",
      "3          17:20\n",
      "4          23:55\n"
     ]
    }
   ],
   "source": [
    "# Hàm chuyển đổi số nguyên thành thời gian dạng 'HH:MM'\n",
    "def convert_to_time(departure_time):\n",
    "    # Lấy giờ và phút từ giá trị số nguyên\n",
    "    hour = departure_time // 100\n",
    "    minute = departure_time % 100\n",
    "    return f\"{hour:02}:{minute:02}\"\n",
    "\n",
    "# Áp dụng hàm chuyển đổi cho cột departure_time\n",
    "df['departure_time'] = df['departure_time'].apply(convert_to_time)\n",
    "\n",
    "# Hiển thị kết quả\n",
    "print(df)\n"
   ]
  },
  {
   "cell_type": "markdown",
   "id": "ea6238ee",
   "metadata": {},
   "source": [
    "##### Chuyển sang kiểu dữ liệu datetime"
   ]
  },
  {
   "cell_type": "code",
   "execution_count": 26,
   "id": "aa8eee2e",
   "metadata": {},
   "outputs": [
    {
     "name": "stdout",
     "output_type": "stream",
     "text": [
      "       departure_time\n",
      "0 2025-04-07 08:30:00\n",
      "1 2025-04-07 14:45:00\n",
      "2 2025-04-07 09:20:00\n",
      "3 2025-04-07 17:20:00\n",
      "4 2025-04-07 23:55:00\n"
     ]
    }
   ],
   "source": [
    "import pandas as pd\n",
    "from datetime import datetime\n",
    "\n",
    "# Chuyển đổi departure_time thành datetime object với ngày hiện tại\n",
    "df['departure_time'] = pd.to_datetime(df['departure_time'], format='%H:%M').apply(lambda x: x.replace(year=datetime.now().year, month=datetime.now().month, day=datetime.now().day))\n",
    "\n",
    "# Kiểm tra kết quả\n",
    "print(df)\n"
   ]
  },
  {
   "cell_type": "markdown",
   "id": "540ee2d4",
   "metadata": {},
   "source": [
    "##### Câu 4"
   ]
  },
  {
   "cell_type": "code",
   "execution_count": 27,
   "id": "cc314146",
   "metadata": {},
   "outputs": [
    {
     "name": "stdout",
     "output_type": "stream",
     "text": [
      "Các giá trị ngoại lệ:\n",
      "      Day Model  Score ScoreGroup\n",
      "4   Day 1     B    9.0       High\n",
      "11  Day 4     C    5.0        Low\n"
     ]
    }
   ],
   "source": [
    "import numpy as np\n",
    "import pandas as pd\n",
    "\n",
    "# TÍnh MAD\n",
    "median = df_long['Score'].median()\n",
    "mad = (df_long['Score'] - median).abs().median()\n",
    "\n",
    "# TÌm các ngoại lệ (giá trị lớn hơn 1.5 lần MAD)\n",
    "\n",
    "threshold = 1.5 * mad\n",
    "outliners = df_long[(df_long['Score'] < median - threshold) | (df_long['Score'] > median + threshold)]\n",
    "\n",
    "print(\"Các giá trị ngoại lệ:\")\n",
    "print(outliners)"
   ]
  },
  {
   "cell_type": "markdown",
   "id": "640a9408",
   "metadata": {},
   "source": [
    "#### Nhận xét\n",
    "\n",
    "Trong dữ liệu, các giá trị ngoại lệ được tìm thấy là:\n",
    "- **Model B, Day 1, Score = 9.0 (High)**: Điểm này cao hơn ngưỡng trên của khoảng cho phép.\n",
    "- **Model C, Day 4, Score = 5.0 (Low)**: Điểm này thấp hơn ngưỡng dưới của khoảng cho phép.\n",
    "\n"
   ]
  },
  {
   "cell_type": "markdown",
   "id": "f601e9a7",
   "metadata": {},
   "source": [
    "#### Câu 5"
   ]
  },
  {
   "cell_type": "code",
   "execution_count": null,
   "id": "1a6bfb36",
   "metadata": {},
   "outputs": [
    {
     "name": "stdout",
     "output_type": "stream",
     "text": [
      "Bảng dữ liệu mẫu:\n",
      "  last_name  weight  height  last_name_encoded\n",
      "0    Nguyen      70     175                  1\n",
      "1    Nguyen      70     175                  1\n",
      "2      Tran      80     180                  2\n",
      "3        Le      60     165                  0\n",
      "\n",
      "Ma trận khoảng cách Boolean:\n",
      "[[0. 0. 1. 1.]\n",
      " [0. 0. 1. 1.]\n",
      " [1. 1. 0. 1.]\n",
      " [1. 1. 1. 0.]]\n"
     ]
    }
   ],
   "source": [
    "import pandas as pd\n",
    "from scipy.spatial.distance import pdist, squareform\n",
    "\n",
    "# Tạo bảng Patient với dữ liệu mẫu\n",
    "data = {\n",
    "    'last_name': ['Nguyen', 'Nguyen', 'Tran', 'Le'],  # Họ của bệnh nhân\n",
    "    'weight': [70, 70, 80, 60],  # Cân nặng của bệnh nhân\n",
    "    'height': [175, 175, 180, 165]  # Chiều cao của bệnh nhân\n",
    "}\n",
    "df_patient = pd.DataFrame(data)\n",
    "\n",
    "# Hàm tính khoảng cách Boolean\n",
    "def boolean_distance(u, v):\n",
    "    \"\"\"\n",
    "    Hàm tính khoảng cách Boolean giữa hai vector u và v.\n",
    "    Khoảng cách Boolean trả về True (1) nếu hai vector không khớp hoàn toàn\n",
    "    dựa trên 'last_name' và 'weight', ngược lại trả về False (0).\n",
    "    \"\"\"\n",
    "    last_name_match = u[0] == v[0]  # So sánh họ của hai bệnh nhân\n",
    "    weight_match = u[1] == v[1]  # So sánh cân nặng của hai bệnh nhân\n",
    "    return not (last_name_match and weight_match)  # Trả về True nếu không khớp hoàn toàn\n",
    "\n",
    "# Chuyển đổi cột 'last_name' thành giá trị số để dễ dàng tính toán\n",
    "df_patient['last_name_encoded'] = df_patient['last_name'].astype('category').cat.codes\n",
    "\n",
    "# Sử dụng cột mã hóa 'last_name_encoded' và cột 'weight' để tính khoảng cách\n",
    "distances = pdist(df_patient[['last_name_encoded', 'weight']].values, metric=boolean_distance)\n",
    "\n",
    "# Tính ma trận khoảng cách\n",
    "# Chuyển đổi khoảng cách thành ma trận vuông để dễ dàng quan sát\n",
    "distance_matrix = squareform(distances)\n",
    "\n",
    "# Hiển thị bảng dữ liệu và ma trận khoảng cách\n",
    "print(\"Bảng dữ liệu mẫu:\")\n",
    "print(df_patient)\n",
    "print(\"\\nMa trận khoảng cách Boolean:\")\n",
    "print(distance_matrix)"
   ]
  },
  {
   "cell_type": "markdown",
   "id": "0f6bba5f",
   "metadata": {},
   "source": [
    "#### Nhận xét \n",
    "\n",
    "\n",
    "Kết quả trên cho thấy:\n",
    "- Bệnh nhân 0 và 1 có cùng họ \"Nguyen\" và cân nặng 70, nên khoảng cách giữa họ là `0`.\n",
    "- Bệnh nhân 0 và 2 khác nhau về cả họ (\"Nguyen\" vs \"Tran\") và cân nặng (70 vs 80), nên khoảng cách giữa họ là `1`.\n",
    "\n",
    "\n"
   ]
  }
 ],
 "metadata": {
  "kernelspec": {
   "display_name": "Python 3",
   "language": "python",
   "name": "python3"
  },
  "language_info": {
   "codemirror_mode": {
    "name": "ipython",
    "version": 3
   },
   "file_extension": ".py",
   "mimetype": "text/x-python",
   "name": "python",
   "nbconvert_exporter": "python",
   "pygments_lexer": "ipython3",
   "version": "3.12.7"
  }
 },
 "nbformat": 4,
 "nbformat_minor": 5
}
